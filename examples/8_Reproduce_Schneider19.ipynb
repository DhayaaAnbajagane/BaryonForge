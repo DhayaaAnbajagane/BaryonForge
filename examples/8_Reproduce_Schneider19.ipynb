{
 "cells": [
  {
   "cell_type": "code",
   "execution_count": null,
   "id": "0ff8c838",
   "metadata": {},
   "outputs": [],
   "source": [
    "import matplotlib.pyplot as plt\n",
    "import numpy as np\n",
    "import pandas as pd\n",
    "import healpy as hp\n",
    "import sys, os; sys.path.append('../../')\n",
    "import Baryonification as bfn\n",
    "import pyccl as ccl\n",
    "from astropy.io import fits\n",
    "\n",
    "#Load cosmology object from CCL. Linear P(k) is needed since we use it for 2-halo term.\n",
    "#We don't use P(k) anywhere else in this model, so it's ok to use linear P(k) throughout\n",
    "#I use the specific values from S19 now\n",
    "cosmo = ccl.Cosmology(Omega_c = 0.32 - 0.048 , Omega_b = 0.048, h=0.67, sigma8=0.83, n_s=0.96,\n",
    "                      matter_power_spectrum='linear')\n",
    "h = cosmo.cosmo.params.h\n",
    "\n",
    "#Config params. Let's use the default values as deemed in Schneider19\n",
    "bpar = dict(theta_ej = 4, theta_co = 0.1, \n",
    "            mu_beta = 1, #We set this to 1 and then change M_c to get the right \\beta value\n",
    "            eta = 0.3, eta_delta = 0.3, \n",
    "            tau = 0, tau_delta = 0, #They don't use a tau so we zero ours\n",
    "            A = 0.09/2, #Factor 2 Needed so that the high-mass behaviors of our model is same as theirs\n",
    "            M1 = 2.5e11/h,\n",
    "            epsilon_h = 0.015, eta_cga = 0.6, a = 0.3, n = 2, epsilon = 4, p = 0.3, q = 0.707, \n",
    "            cdelta = 6.71, #This value is what I found was needed to reproduce their DMO profiles. The value is given in S15 too.\n",
    "            gamma = 2, delta = 7)"
   ]
  },
  {
   "cell_type": "code",
   "execution_count": null,
   "id": "f6ead816",
   "metadata": {},
   "outputs": [],
   "source": [
    "#Some plotting configs\n",
    "plt.rc('text', usetex=True)\n",
    "plt.rc('font', family='serif', size=22)\n",
    "plt.rcParams[\"axes.linewidth\"]  = 2.0\n",
    "plt.rcParams[\"xtick.major.size\"]  = 10\n",
    "plt.rcParams[\"xtick.minor.size\"]  = 5\n",
    "plt.rcParams[\"ytick.major.size\"]  = 10\n",
    "plt.rcParams[\"ytick.minor.size\"]  = 5\n",
    "plt.rcParams[\"xtick.direction\"]  = \"in\"\n",
    "plt.rcParams[\"ytick.direction\"]  = \"in\"\n",
    "plt.rcParams[\"legend.frameon\"] = 'False'\n",
    "plt.rcParams['figure.figsize'] = [10, 10]"
   ]
  },
  {
   "cell_type": "code",
   "execution_count": null,
   "id": "a24008a0",
   "metadata": {},
   "outputs": [],
   "source": [
    "#Let's load some profiles that I scrapped from left panel of Fig 1 in Schneider 19\n",
    "\n",
    "l = [[i + '_X', i + '_Y'] for i in ['STAR', 'GAS1', 'GAS2', 'GAS3', '2HALO', 'TOTAL', 'R200', 'DMO', 'DMB1', 'DMB2', 'DMB3']]\n",
    "l = [item for sublist in l for item in sublist]\n",
    "S19 = pd.read_csv('./S19_Fig1_Scrapped.csv', skiprows = 2, names = l)"
   ]
  },
  {
   "cell_type": "markdown",
   "id": "9493b3db",
   "metadata": {},
   "source": [
    "# Plot different components"
   ]
  },
  {
   "cell_type": "code",
   "execution_count": null,
   "id": "c3bfe8dd",
   "metadata": {},
   "outputs": [],
   "source": [
    "plt.figure(figsize = (10, 10))\n",
    "plt.loglog()\n",
    "plt.ylim(6e7, 3e16)\n",
    "\n",
    "#Note that this radius is comoving Mpc\n",
    "r    = np.geomspace(1e-3, 50, 1000)\n",
    "mdef = mass_def = ccl.halos.massdef.MassDef(200, 'critical')\n",
    "\n",
    "p = bfn.Gas(M_c = np.inf, **bpar).real(cosmo, r,1e14/h, 1, mass_def = mdef)\n",
    "plt.plot(r*h, p/h**2, lw = 5, label = r'Gas, $\\beta = 0$')\n",
    "\n",
    "p = bfn.Gas(M_c = 1e14/h, **bpar).real(cosmo, r,1e14/h, 1, mass_def = mdef)\n",
    "plt.plot(r*h,p/h**2, lw = 5, label = r'Gas, $\\beta = 1.5$')\n",
    "\n",
    "p = bfn.Gas(M_c = 1e-10,  **bpar).real(cosmo, r,1e14/h, 1, mass_def = mdef)\n",
    "plt.plot(r*h,p/h**2, lw = 5, label = r'Gas, $\\beta = 3$')\n",
    "\n",
    "p = bfn.Stars(**bpar).real(cosmo, r,1e14/h, 1, mass_def = mdef)\n",
    "plt.plot(r*h,p/h**2, lw = 5, label = 'Stars')\n",
    "\n",
    "p = bfn.TwoHalo(**bpar).real(cosmo, r,1e14/h, 1, mass_def = mdef)\n",
    "plt.plot(r*h,p/h**2, lw = 5, label = 'Two-Halo')\n",
    "\n",
    "\n",
    "for i in ['STAR', 'GAS1', 'GAS2', 'GAS3', '2HALO']:    \n",
    "    plt.plot(S19[i + '_X'].values, S19[i + '_Y'].values, color = 'k', ls = '--', lw = 3,\n",
    "             label = 'S19' if i == 'STAR' else None)\n",
    "    \n",
    "plt.xlabel(r'Radius [Mpc/h]', size = 30)\n",
    "plt.ylabel(r'$\\rho_X$ [$M_{\\odot} h^2 / Mpc^3$]', size = 30)\n",
    "plt.legend(frameon = False, fontsize = 22)"
   ]
  },
  {
   "cell_type": "markdown",
   "id": "1c753da3",
   "metadata": {},
   "source": [
    "# Now the DMO/DMB profiles"
   ]
  },
  {
   "cell_type": "code",
   "execution_count": null,
   "id": "c7f5b08c",
   "metadata": {},
   "outputs": [],
   "source": [
    "plt.figure(figsize = (12, 8))\n",
    "plt.loglog()\n",
    "plt.ylim(3e12, 2e13)\n",
    "plt.xlim(6e-3, 1.1e1)\n",
    "\n",
    "\n",
    "#Note that this radius is comoving Mpc\n",
    "r    = np.geomspace(1e-3, 50, 1000)\n",
    "mdef = mass_def = ccl.halos.massdef.MassDef(200, 'critical')\n",
    "\n",
    "\n",
    "p = bfn.DarkMatterOnly(**bpar).real(cosmo, r,1e14/h, 1, mass_def = mdef)\n",
    "plt.plot(r*h,r**2*p, lw = 5, label = 'DMO')\n",
    "\n",
    "\n",
    "p = bfn.DarkMatterBaryon(M_c = np.inf, **bpar).real(cosmo, r,1e14/h, 1, mass_def = mdef)\n",
    "plt.plot(r*h,r**2*p, lw = 5, label = r'DMB, $\\beta = 0$')\n",
    "\n",
    "p = bfn.DarkMatterBaryon(M_c = 1e14/h, **bpar).real(cosmo, r,1e14/h, 1, mass_def = mdef)\n",
    "plt.plot(r*h,r**2*p, lw = 5, label = r'DMB, $\\beta = 1.5$')\n",
    "\n",
    "p = bfn.DarkMatterBaryon(M_c = 1e-10, **bpar).real(cosmo, r,1e14/h, 1, mass_def = mdef)\n",
    "plt.plot(r*h,r**2*p, lw = 5, label = r'DMB, $\\beta = 3$')\n",
    "\n",
    "\n",
    "for i in ['DMO', 'DMB1', 'DMB2', 'DMB3']:\n",
    "    plt.plot(S19[i + '_X'].values, S19[i + '_Y'].values, color = 'k', ls = '--', lw = 3)\n",
    "    \n",
    "    \n",
    "plt.xlabel(r'Radius [Mpc/h]', size = 30)\n",
    "plt.ylabel(r'$r^2 \\rho_X$ [$M_{\\odot} / Mpc$]', size = 30)\n",
    "plt.legend(frameon = False, fontsize = 22)"
   ]
  }
 ],
 "metadata": {
  "kernelspec": {
   "display_name": "pyccl_env_extended",
   "language": "python",
   "name": "pyccl_env_extended"
  },
  "language_info": {
   "codemirror_mode": {
    "name": "ipython",
    "version": 3
   },
   "file_extension": ".py",
   "mimetype": "text/x-python",
   "name": "python",
   "nbconvert_exporter": "python",
   "pygments_lexer": "ipython3",
   "version": "3.9.1"
  }
 },
 "nbformat": 4,
 "nbformat_minor": 5
}
